{
 "cells": [
  {
   "cell_type": "code",
   "execution_count": 29,
   "metadata": {},
   "outputs": [
    {
     "name": "stdout",
     "output_type": "stream",
     "text": [
      "Extraction complete: 11321 new frames saved in 'real_data'.\n"
     ]
    }
   ],
   "source": [
    "import cv2\n",
    "import os\n",
    "\n",
    "def get_next_frame_number(output_folder):\n",
    "    \"\"\"\n",
    "    Find the next available frame number to avoid overwriting existing files.\n",
    "    \"\"\"\n",
    "    existing_files = [f for f in os.listdir(output_folder) if f.startswith(\"frame_\") and f.endswith(\".jpg\")]\n",
    "    if not existing_files:\n",
    "        return 0  # If no files exist, start from 0\n",
    "    \n",
    "    existing_numbers = [int(f.split(\"_\")[1].split(\".\")[0]) for f in existing_files]\n",
    "    return max(existing_numbers) + 1\n",
    "\n",
    "def extract_frames(video_path, output_folder, frame_interval=5):\n",
    "    \"\"\"\n",
    "    Extract frames from a video at a specified interval without overwriting existing data.\n",
    "\n",
    "    Parameters:\n",
    "    - video_path: Path to the input video file.\n",
    "    - output_folder: Directory to save the extracted frames.\n",
    "    - frame_interval: Extract every 'n' frames.\n",
    "    \"\"\"\n",
    "    # Create output folder if it doesn't exist\n",
    "    os.makedirs(output_folder, exist_ok=True)\n",
    "    \n",
    "    # Get the starting frame number\n",
    "    next_frame_number = get_next_frame_number(output_folder)\n",
    "\n",
    "    # Open video file\n",
    "    cap = cv2.VideoCapture(video_path)\n",
    "    \n",
    "    if not cap.isOpened():\n",
    "        print(\"Error: Cannot open video file.\")\n",
    "        return\n",
    "    \n",
    "    frame_count = 0\n",
    "    saved_count = 0\n",
    "\n",
    "    while True:\n",
    "        ret, frame = cap.read()\n",
    "        if not ret:\n",
    "            break  # Exit loop if video ends\n",
    "        \n",
    "        # Save frame if it matches the interval\n",
    "        if frame_count % frame_interval == 0:\n",
    "            frame_filename = os.path.join(output_folder, f\"frame_{next_frame_number:06d}.jpg\")\n",
    "            cv2.imwrite(frame_filename, frame)\n",
    "            next_frame_number += 1\n",
    "            saved_count += 1\n",
    "        \n",
    "        frame_count += 1\n",
    "    \n",
    "    cap.release()\n",
    "    print(f\"Extraction complete: {saved_count} new frames saved in '{output_folder}'.\")\n",
    "\n",
    "# Example Usage\n",
    "video_file = r\"D:\\video_classification_mannually\\video_classification_without_any_model\\real_video_data\\New Delhi, Paharganj - Walking EXTREMLY BUSY Streets _ India Walking Tour 4K HDR.mp4\" # Change to your video path\n",
    "output_dir = \"real_data\"  # Output folder\n",
    "frame_skip = 5  # Extract every 5th frame\n",
    "\n",
    "extract_frames(video_file, output_dir, frame_skip)\n"
   ]
  },
  {
   "cell_type": "code",
   "execution_count": null,
   "metadata": {},
   "outputs": [],
   "source": []
  }
 ],
 "metadata": {
  "kernelspec": {
   "display_name": "colleg",
   "language": "python",
   "name": "python3"
  },
  "language_info": {
   "codemirror_mode": {
    "name": "ipython",
    "version": 3
   },
   "file_extension": ".py",
   "mimetype": "text/x-python",
   "name": "python",
   "nbconvert_exporter": "python",
   "pygments_lexer": "ipython3",
   "version": "3.10.16"
  }
 },
 "nbformat": 4,
 "nbformat_minor": 2
}
